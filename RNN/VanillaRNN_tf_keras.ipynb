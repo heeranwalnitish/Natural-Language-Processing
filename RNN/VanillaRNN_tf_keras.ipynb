{
 "cells": [
  {
   "cell_type": "markdown",
   "metadata": {},
   "source": [
    "# Sentiment analysis using Simple RNN"
   ]
  },
  {
   "cell_type": "markdown",
   "metadata": {},
   "source": [
    "*Sentiment Analysis is the process of determining whether a piece of text is positive, negative, or neutral. It is widely used in social media monitoring, customer feedback and support, identification of derogatory tweets, product analysis, etc. Here we are going to build a Bidirectional RNN network to classify a sentence as either positive or negative using the IMDB dataset*"
   ]
  },
  {
   "cell_type": "code",
   "execution_count": 1,
   "metadata": {},
   "outputs": [],
   "source": [
    "# Importing the packages\n",
    "import re\n",
    "import string\n",
    "import numpy as np\n",
    "import pandas as pd\n",
    "import tensorflow as tf\n",
    "import matplotlib.pyplot as plt\n",
    "\n",
    "from sklearn.model_selection import train_test_split\n",
    "from keras.layers import  Dense, SimpleRNN, LSTM, GRU, Embedding, SpatialDropout1D\n",
    "# from keras.utils.np_utils import to_categorical\n",
    "from keras.models import Sequential\n",
    "from keras.preprocessing.text import Tokenizer\n",
    "from keras.preprocessing.sequence import pad_sequences\n",
    "from keras import backend \n",
    "\n"
   ]
  },
  {
   "cell_type": "code",
   "execution_count": 20,
   "metadata": {},
   "outputs": [],
   "source": [
    "# Importing the Dataset\n",
    "df = pd.read_csv(\"Data/IMDB Dataset.csv\")"
   ]
  },
  {
   "cell_type": "code",
   "execution_count": 21,
   "metadata": {},
   "outputs": [
    {
     "name": "stdout",
     "output_type": "stream",
     "text": [
      "<class 'pandas.core.frame.DataFrame'>\n",
      "RangeIndex: 50000 entries, 0 to 49999\n",
      "Data columns (total 2 columns):\n",
      " #   Column     Non-Null Count  Dtype \n",
      "---  ------     --------------  ----- \n",
      " 0   review     50000 non-null  object\n",
      " 1   sentiment  50000 non-null  object\n",
      "dtypes: object(2)\n",
      "memory usage: 781.4+ KB\n"
     ]
    }
   ],
   "source": [
    "df.info()"
   ]
  },
  {
   "cell_type": "code",
   "execution_count": 22,
   "metadata": {},
   "outputs": [
    {
     "data": {
      "text/html": [
       "<div>\n",
       "<style scoped>\n",
       "    .dataframe tbody tr th:only-of-type {\n",
       "        vertical-align: middle;\n",
       "    }\n",
       "\n",
       "    .dataframe tbody tr th {\n",
       "        vertical-align: top;\n",
       "    }\n",
       "\n",
       "    .dataframe thead th {\n",
       "        text-align: right;\n",
       "    }\n",
       "</style>\n",
       "<table border=\"1\" class=\"dataframe\">\n",
       "  <thead>\n",
       "    <tr style=\"text-align: right;\">\n",
       "      <th></th>\n",
       "      <th>review</th>\n",
       "      <th>sentiment</th>\n",
       "    </tr>\n",
       "  </thead>\n",
       "  <tbody>\n",
       "    <tr>\n",
       "      <th>0</th>\n",
       "      <td>One of the other reviewers has mentioned that ...</td>\n",
       "      <td>positive</td>\n",
       "    </tr>\n",
       "    <tr>\n",
       "      <th>1</th>\n",
       "      <td>A wonderful little production. &lt;br /&gt;&lt;br /&gt;The...</td>\n",
       "      <td>positive</td>\n",
       "    </tr>\n",
       "    <tr>\n",
       "      <th>2</th>\n",
       "      <td>I thought this was a wonderful way to spend ti...</td>\n",
       "      <td>positive</td>\n",
       "    </tr>\n",
       "    <tr>\n",
       "      <th>3</th>\n",
       "      <td>Basically there's a family where a little boy ...</td>\n",
       "      <td>negative</td>\n",
       "    </tr>\n",
       "    <tr>\n",
       "      <th>4</th>\n",
       "      <td>Petter Mattei's \"Love in the Time of Money\" is...</td>\n",
       "      <td>positive</td>\n",
       "    </tr>\n",
       "  </tbody>\n",
       "</table>\n",
       "</div>"
      ],
      "text/plain": [
       "                                              review sentiment\n",
       "0  One of the other reviewers has mentioned that ...  positive\n",
       "1  A wonderful little production. <br /><br />The...  positive\n",
       "2  I thought this was a wonderful way to spend ti...  positive\n",
       "3  Basically there's a family where a little boy ...  negative\n",
       "4  Petter Mattei's \"Love in the Time of Money\" is...  positive"
      ]
     },
     "execution_count": 22,
     "metadata": {},
     "output_type": "execute_result"
    }
   ],
   "source": [
    "df.head(5)"
   ]
  },
  {
   "cell_type": "code",
   "execution_count": 23,
   "metadata": {},
   "outputs": [
    {
     "data": {
      "text/plain": [
       "Index(['review', 'sentiment'], dtype='object')"
      ]
     },
     "execution_count": 23,
     "metadata": {},
     "output_type": "execute_result"
    }
   ],
   "source": [
    "df.columns"
   ]
  },
  {
   "cell_type": "markdown",
   "metadata": {},
   "source": [
    "## Data Preprocessing"
   ]
  },
  {
   "cell_type": "code",
   "execution_count": 24,
   "metadata": {},
   "outputs": [],
   "source": [
    "#removing the html\n",
    "def clean_html(text):\n",
    "    clean =re.compile('<.*?>')\n",
    "    clean_text = re.sub(clean, '', text)\n",
    "    return clean_text"
   ]
  },
  {
   "cell_type": "code",
   "execution_count": 25,
   "metadata": {},
   "outputs": [],
   "source": [
    "# first round of cleaning\n",
    "def clean_text1(text):\n",
    "    text = text.lower()\n",
    "    text = re.sub('\\[.*?\\]', '', text)\n",
    "    text = re.sub('[%s]'%re.escape(string.punctuation), '', text)\n",
    "    text = re.sub('\\w*\\d\\w*', '' , text)\n",
    "    return text"
   ]
  },
  {
   "cell_type": "code",
   "execution_count": 26,
   "metadata": {},
   "outputs": [],
   "source": [
    "# second round of cleaning\n",
    "def clean_text2(text):\n",
    "    text = re.sub('['',\"\",,,]', '' ,text)\n",
    "    text = re.sub('\\n', '', text)\n",
    "    return text"
   ]
  },
  {
   "cell_type": "code",
   "execution_count": 27,
   "metadata": {},
   "outputs": [],
   "source": [
    "df['review_cleaned'] = pd.DataFrame(df.review.apply(lambda x : clean_html(x)))"
   ]
  },
  {
   "cell_type": "code",
   "execution_count": 28,
   "metadata": {},
   "outputs": [],
   "source": [
    "df['review_cleaned'] = pd.DataFrame(df.review_cleaned.apply(lambda x : clean_text1(x)))\n",
    "df['review_cleaned'] = pd.DataFrame(df.review_cleaned.apply(lambda x : clean_text2(x)))\n"
   ]
  },
  {
   "cell_type": "code",
   "execution_count": 11,
   "metadata": {},
   "outputs": [
    {
     "data": {
      "text/plain": [
       "array(['positive', 'negative'], dtype=object)"
      ]
     },
     "execution_count": 11,
     "metadata": {},
     "output_type": "execute_result"
    }
   ],
   "source": [
    "df['sentiment'].unique()"
   ]
  },
  {
   "cell_type": "code",
   "execution_count": 12,
   "metadata": {},
   "outputs": [],
   "source": [
    "df['sentiment']= df['sentiment'].replace({'positive': 1, 'negative': 0})"
   ]
  },
  {
   "cell_type": "code",
   "execution_count": 13,
   "metadata": {},
   "outputs": [
    {
     "data": {
      "text/html": [
       "<div>\n",
       "<style scoped>\n",
       "    .dataframe tbody tr th:only-of-type {\n",
       "        vertical-align: middle;\n",
       "    }\n",
       "\n",
       "    .dataframe tbody tr th {\n",
       "        vertical-align: top;\n",
       "    }\n",
       "\n",
       "    .dataframe thead th {\n",
       "        text-align: right;\n",
       "    }\n",
       "</style>\n",
       "<table border=\"1\" class=\"dataframe\">\n",
       "  <thead>\n",
       "    <tr style=\"text-align: right;\">\n",
       "      <th></th>\n",
       "      <th>review</th>\n",
       "      <th>sentiment</th>\n",
       "      <th>review_cleaned</th>\n",
       "    </tr>\n",
       "  </thead>\n",
       "  <tbody>\n",
       "    <tr>\n",
       "      <th>0</th>\n",
       "      <td>One of the other reviewers has mentioned that ...</td>\n",
       "      <td>1</td>\n",
       "      <td>one of the other reviewers has mentioned that ...</td>\n",
       "    </tr>\n",
       "    <tr>\n",
       "      <th>1</th>\n",
       "      <td>A wonderful little production. &lt;br /&gt;&lt;br /&gt;The...</td>\n",
       "      <td>1</td>\n",
       "      <td>a wonderful little production the filming tech...</td>\n",
       "    </tr>\n",
       "    <tr>\n",
       "      <th>2</th>\n",
       "      <td>I thought this was a wonderful way to spend ti...</td>\n",
       "      <td>1</td>\n",
       "      <td>i thought this was a wonderful way to spend ti...</td>\n",
       "    </tr>\n",
       "    <tr>\n",
       "      <th>3</th>\n",
       "      <td>Basically there's a family where a little boy ...</td>\n",
       "      <td>0</td>\n",
       "      <td>basically theres a family where a little boy j...</td>\n",
       "    </tr>\n",
       "    <tr>\n",
       "      <th>4</th>\n",
       "      <td>Petter Mattei's \"Love in the Time of Money\" is...</td>\n",
       "      <td>1</td>\n",
       "      <td>petter matteis love in the time of money is a ...</td>\n",
       "    </tr>\n",
       "  </tbody>\n",
       "</table>\n",
       "</div>"
      ],
      "text/plain": [
       "                                              review  sentiment  \\\n",
       "0  One of the other reviewers has mentioned that ...          1   \n",
       "1  A wonderful little production. <br /><br />The...          1   \n",
       "2  I thought this was a wonderful way to spend ti...          1   \n",
       "3  Basically there's a family where a little boy ...          0   \n",
       "4  Petter Mattei's \"Love in the Time of Money\" is...          1   \n",
       "\n",
       "                                      review_cleaned  \n",
       "0  one of the other reviewers has mentioned that ...  \n",
       "1  a wonderful little production the filming tech...  \n",
       "2  i thought this was a wonderful way to spend ti...  \n",
       "3  basically theres a family where a little boy j...  \n",
       "4  petter matteis love in the time of money is a ...  "
      ]
     },
     "execution_count": 13,
     "metadata": {},
     "output_type": "execute_result"
    }
   ],
   "source": [
    "df.head(5)"
   ]
  },
  {
   "cell_type": "markdown",
   "metadata": {},
   "source": [
    "## Defining the model\n"
   ]
  },
  {
   "cell_type": "code",
   "execution_count": 14,
   "metadata": {},
   "outputs": [],
   "source": [
    "vocab_size = 10000\n",
    "embedding_dim = 16\n",
    "max_length = 120\n",
    "trun_type = 'post'\n",
    "\n",
    "num_epochs = 30"
   ]
  },
  {
   "cell_type": "markdown",
   "metadata": {},
   "source": [
    "*The text data is first tokenized using the Tokenizer class from Keras.*\n",
    "- The Tokenizer converts the text data into sequences of integer values, where each integer represents a specific word in the vocabulary"
   ]
  },
  {
   "cell_type": "code",
   "execution_count": 15,
   "metadata": {},
   "outputs": [],
   "source": [
    "tokenizer = Tokenizer(num_words= vocab_size, split= ' ')\n",
    "tokenizer.fit_on_texts(df['review_cleaned'].values)"
   ]
  },
  {
   "cell_type": "markdown",
   "metadata": {},
   "source": [
    "*After tokenization, the text data is then padded to ensure that all sequences have the same length using the pad_sequences function from Keras.*\n",
    "- This is necessary because the RNN model expects inputs of the same length"
   ]
  },
  {
   "cell_type": "code",
   "execution_count": 16,
   "metadata": {},
   "outputs": [],
   "source": [
    "X = tokenizer.texts_to_sequences(df['review_cleaned'].values)\n",
    "X= pad_sequences(X, maxlen= max_length, truncating= trun_type)"
   ]
  },
  {
   "cell_type": "code",
   "execution_count": 17,
   "metadata": {},
   "outputs": [
    {
     "data": {
      "text/plain": [
       "120"
      ]
     },
     "execution_count": 17,
     "metadata": {},
     "output_type": "execute_result"
    }
   ],
   "source": [
    "len(X[10])"
   ]
  },
  {
   "cell_type": "code",
   "execution_count": 29,
   "metadata": {},
   "outputs": [],
   "source": [
    "Y = pd.get_dummies(df['sentiment'])"
   ]
  },
  {
   "cell_type": "code",
   "execution_count": 30,
   "metadata": {},
   "outputs": [],
   "source": [
    "result_dict = {0: 'Negative', 1: 'Positive'}\n",
    "y_arr = np.vectorize(result_dict.get)(Y.columns)\n"
   ]
  },
  {
   "cell_type": "code",
   "execution_count": 31,
   "metadata": {},
   "outputs": [],
   "source": [
    "Y = Y.values\n"
   ]
  },
  {
   "cell_type": "code",
   "execution_count": 32,
   "metadata": {},
   "outputs": [
    {
     "data": {
      "text/plain": [
       "array([[False,  True],\n",
       "       [False,  True],\n",
       "       [False,  True],\n",
       "       ...,\n",
       "       [ True, False],\n",
       "       [ True, False],\n",
       "       [ True, False]])"
      ]
     },
     "execution_count": 32,
     "metadata": {},
     "output_type": "execute_result"
    }
   ],
   "source": [
    "Y"
   ]
  },
  {
   "cell_type": "markdown",
   "metadata": {},
   "source": [
    "*Once the text data has been tokenized and padded, it is passed to the RNN model, which uses an `Embedding layer` to convert each integer value in the input sequences to a dense vector representation.*\n",
    "- The `Embedding layer` learns a low-dimensional representation of each word in the vocabulary based on its co-occurrence patterns in the input text data.\n",
    "- The output of the Embedding layer is then passed to the `SimpleRNN layer`, which applies a simple recurrent neural network to the sequence of input vectors.\n",
    "- The `SimpleRNN layer` maintains a hidden state that is updated at each time step based on the current input and the previous hidden state.\n",
    "- The output of the `SimpleRNN layer` is a single vector representation of the input sequence, which can be used for classification or other downstream tasks\n",
    "-Finally, the output of the `SimpleRNN layer` is passed to a `Dense layer` with a **softmax activation** function, which outputs a probability distribution over the two possible classes."
   ]
  },
  {
   "cell_type": "code",
   "execution_count": 36,
   "metadata": {},
   "outputs": [
    {
     "name": "stdout",
     "output_type": "stream",
     "text": [
      "Model: \"sequential_1\"\n",
      "_________________________________________________________________\n",
      " Layer (type)                Output Shape              Param #   \n",
      "=================================================================\n",
      " embedding_1 (Embedding)     (None, 120, 16)           160000    \n",
      "                                                                 \n",
      " simple_rnn_1 (SimpleRNN)    (None, 32)                1568      \n",
      "                                                                 \n",
      " dense_2 (Dense)             (None, 10)                330       \n",
      "                                                                 \n",
      " dense_3 (Dense)             (None, 2)                 22        \n",
      "                                                                 \n",
      "=================================================================\n",
      "Total params: 161920 (632.50 KB)\n",
      "Trainable params: 161920 (632.50 KB)\n",
      "Non-trainable params: 0 (0.00 Byte)\n",
      "_________________________________________________________________\n"
     ]
    }
   ],
   "source": [
    "model = tf.keras.Sequential([\n",
    "    tf.keras.layers.Embedding(vocab_size, embedding_dim, input_length= max_length),\n",
    "    tf.keras.layers.SimpleRNN(32),\n",
    "    tf.keras.layers.Dense(10, activation= 'relu'),\n",
    "    tf.keras.layers.Dense(2, activation= 'sigmoid')\n",
    "\n",
    "])\n",
    "\n",
    "model.summary()"
   ]
  },
  {
   "cell_type": "markdown",
   "metadata": {},
   "source": [
    "*The model is trained using categorical cross-entropy loss and optimized using the Adam optimizer.*"
   ]
  },
  {
   "cell_type": "code",
   "execution_count": 38,
   "metadata": {},
   "outputs": [],
   "source": [
    "model.compile(loss = 'categorical_crossentropy', optimizer= 'adam',\n",
    "              metrics = ['accuracy'])"
   ]
  },
  {
   "cell_type": "markdown",
   "metadata": {},
   "source": [
    "## Splitting the dataset"
   ]
  },
  {
   "cell_type": "code",
   "execution_count": 33,
   "metadata": {},
   "outputs": [],
   "source": [
    "X_train, X_test, y_train, y_test = train_test_split(X,Y, test_size= 0.2, stratify= Y, random_state= 317)"
   ]
  },
  {
   "cell_type": "code",
   "execution_count": 34,
   "metadata": {},
   "outputs": [
    {
     "data": {
      "text/plain": [
       "((40000, 120), (40000, 2))"
      ]
     },
     "execution_count": 34,
     "metadata": {},
     "output_type": "execute_result"
    }
   ],
   "source": [
    "X_train.shape, y_train.shape"
   ]
  },
  {
   "cell_type": "code",
   "execution_count": null,
   "metadata": {},
   "outputs": [],
   "source": [
    "X_test.shape, y_test.shape"
   ]
  },
  {
   "cell_type": "code",
   "execution_count": 39,
   "metadata": {},
   "outputs": [
    {
     "name": "stdout",
     "output_type": "stream",
     "text": [
      "Epoch 1/30\n",
      "1250/1250 [==============================] - 34s 24ms/step - loss: 0.6935 - accuracy: 0.5058 - val_loss: 0.6932 - val_accuracy: 0.4938\n",
      "Epoch 2/30\n",
      "1250/1250 [==============================] - 28s 23ms/step - loss: 0.6770 - accuracy: 0.5567 - val_loss: 0.6660 - val_accuracy: 0.5888\n",
      "Epoch 3/30\n",
      "1250/1250 [==============================] - 29s 23ms/step - loss: 0.5594 - accuracy: 0.7154 - val_loss: 0.4624 - val_accuracy: 0.7880\n",
      "Epoch 4/30\n",
      "1250/1250 [==============================] - 28s 22ms/step - loss: 0.4301 - accuracy: 0.8116 - val_loss: 0.4344 - val_accuracy: 0.8064\n",
      "Epoch 5/30\n",
      "1250/1250 [==============================] - 29s 23ms/step - loss: 0.3747 - accuracy: 0.8428 - val_loss: 0.4117 - val_accuracy: 0.8153\n",
      "Epoch 6/30\n",
      "1250/1250 [==============================] - 31s 24ms/step - loss: 0.3333 - accuracy: 0.8647 - val_loss: 0.4274 - val_accuracy: 0.8067\n",
      "Epoch 7/30\n",
      "1250/1250 [==============================] - 31s 24ms/step - loss: 0.3046 - accuracy: 0.8774 - val_loss: 0.4305 - val_accuracy: 0.8013\n",
      "Epoch 8/30\n",
      "1250/1250 [==============================] - 30s 24ms/step - loss: 0.4073 - accuracy: 0.8228 - val_loss: 0.6187 - val_accuracy: 0.6712\n",
      "Epoch 9/30\n",
      "1250/1250 [==============================] - 31s 25ms/step - loss: 0.3313 - accuracy: 0.8609 - val_loss: 0.4578 - val_accuracy: 0.8250\n",
      "Epoch 10/30\n",
      "1250/1250 [==============================] - 26s 21ms/step - loss: 0.2595 - accuracy: 0.8984 - val_loss: 0.4956 - val_accuracy: 0.7968\n",
      "Epoch 11/30\n",
      "1250/1250 [==============================] - 28s 22ms/step - loss: 0.3255 - accuracy: 0.8678 - val_loss: 0.5281 - val_accuracy: 0.7761\n",
      "Epoch 12/30\n",
      "1250/1250 [==============================] - 26s 21ms/step - loss: 0.4246 - accuracy: 0.7949 - val_loss: 0.6809 - val_accuracy: 0.6121\n",
      "Epoch 13/30\n",
      "1250/1250 [==============================] - 26s 20ms/step - loss: 0.5360 - accuracy: 0.7291 - val_loss: 0.5892 - val_accuracy: 0.7342\n",
      "Epoch 14/30\n",
      "1250/1250 [==============================] - 26s 21ms/step - loss: 0.4385 - accuracy: 0.7931 - val_loss: 0.5944 - val_accuracy: 0.7119\n",
      "Epoch 15/30\n",
      "1250/1250 [==============================] - 26s 21ms/step - loss: 0.3474 - accuracy: 0.8547 - val_loss: 0.5266 - val_accuracy: 0.7695\n",
      "Epoch 16/30\n",
      "1250/1250 [==============================] - 26s 21ms/step - loss: 0.3363 - accuracy: 0.8589 - val_loss: 0.5975 - val_accuracy: 0.7594\n",
      "Epoch 17/30\n",
      "1250/1250 [==============================] - 26s 21ms/step - loss: 0.3535 - accuracy: 0.8521 - val_loss: 0.5773 - val_accuracy: 0.7502\n",
      "Epoch 18/30\n",
      "1250/1250 [==============================] - 26s 21ms/step - loss: 0.3524 - accuracy: 0.8498 - val_loss: 0.6806 - val_accuracy: 0.6728\n",
      "Epoch 19/30\n",
      "1250/1250 [==============================] - 27s 21ms/step - loss: 0.3892 - accuracy: 0.8306 - val_loss: 0.6338 - val_accuracy: 0.7219\n",
      "Epoch 20/30\n",
      "1250/1250 [==============================] - 26s 21ms/step - loss: 0.3795 - accuracy: 0.8390 - val_loss: 0.6275 - val_accuracy: 0.7189\n",
      "Epoch 21/30\n",
      "1250/1250 [==============================] - 26s 21ms/step - loss: 0.3874 - accuracy: 0.8340 - val_loss: 0.6187 - val_accuracy: 0.7294\n",
      "Epoch 22/30\n",
      "1250/1250 [==============================] - 26s 21ms/step - loss: 0.3716 - accuracy: 0.8472 - val_loss: 0.7100 - val_accuracy: 0.6601\n",
      "Epoch 23/30\n",
      "1250/1250 [==============================] - 26s 21ms/step - loss: 0.3856 - accuracy: 0.8365 - val_loss: 0.6348 - val_accuracy: 0.7288\n",
      "Epoch 24/30\n",
      "1250/1250 [==============================] - 26s 21ms/step - loss: 0.3211 - accuracy: 0.8740 - val_loss: 0.6187 - val_accuracy: 0.7377\n",
      "Epoch 25/30\n",
      "1250/1250 [==============================] - 26s 21ms/step - loss: 0.3556 - accuracy: 0.8466 - val_loss: 0.6460 - val_accuracy: 0.7502\n",
      "Epoch 26/30\n",
      "1250/1250 [==============================] - 26s 21ms/step - loss: 0.3339 - accuracy: 0.8638 - val_loss: 0.6168 - val_accuracy: 0.7318\n",
      "Epoch 27/30\n",
      "1250/1250 [==============================] - 26s 21ms/step - loss: 0.3293 - accuracy: 0.8667 - val_loss: 0.6371 - val_accuracy: 0.7437\n",
      "Epoch 28/30\n",
      "1250/1250 [==============================] - 26s 21ms/step - loss: 0.3009 - accuracy: 0.8825 - val_loss: 0.6509 - val_accuracy: 0.7340\n",
      "Epoch 29/30\n",
      "1250/1250 [==============================] - 26s 21ms/step - loss: 0.3339 - accuracy: 0.8586 - val_loss: 0.6444 - val_accuracy: 0.7145\n",
      "Epoch 30/30\n",
      "1250/1250 [==============================] - 26s 21ms/step - loss: 0.3040 - accuracy: 0.8819 - val_loss: 0.6323 - val_accuracy: 0.7553\n"
     ]
    }
   ],
   "source": [
    "history = model.fit(X_train,y_train, \n",
    "                    epochs= num_epochs,\n",
    "                    validation_data = (X_test, y_test)\n",
    "                    )"
   ]
  },
  {
   "cell_type": "code",
   "execution_count": 40,
   "metadata": {},
   "outputs": [],
   "source": [
    "def plot_graph_stats(history, string):\n",
    "    plt.plot(history.history[string])\n",
    "    plt.plot(history.history['val_'+string])\n",
    "    plt.xlabel(\"num_epochs\")\n",
    "    plt.ylabel(string)\n",
    "    plt.legend([string, 'val'+string])\n",
    "    plt.show()\n"
   ]
  },
  {
   "cell_type": "code",
   "execution_count": 41,
   "metadata": {},
   "outputs": [
    {
     "data": {
      "image/png": "[encoded data removed]",
      "text/plain": [
       "<Figure size 640x480 with 1 Axes>"
      ]
     },
     "metadata": {},
     "output_type": "display_data"
    }
   ],
   "source": [
    "plot_graph_stats(history, 'accuracy')"
   ]
  },
  {
   "cell_type": "code",
   "execution_count": 42,
   "metadata": {},
   "outputs": [
    {
     "data": {
      "image/png": "[encoded data removed]",
      "text/plain": [
       "<Figure size 640x480 with 1 Axes>"
      ]
     },
     "metadata": {},
     "output_type": "display_data"
    }
   ],
   "source": [
    "plot_graph_stats(history, 'loss')"
   ]
  },
  {
   "cell_type": "code",
   "execution_count": null,
   "metadata": {},
   "outputs": [],
   "source": []
  }
 ],
 "metadata": {
  "kernelspec": {
   "display_name": "base",
   "language": "python",
   "name": "python3"
  },
  "language_info": {
   "codemirror_mode": {
    "name": "ipython",
    "version": 3
   },
   "file_extension": ".py",
   "mimetype": "text/x-python",
   "name": "python",
   "nbconvert_exporter": "python",
   "pygments_lexer": "ipython3",
   "version": "3.9.17"
  },
  "orig_nbformat": 4
 },
 "nbformat": 4,
 "nbformat_minor": 2
}
